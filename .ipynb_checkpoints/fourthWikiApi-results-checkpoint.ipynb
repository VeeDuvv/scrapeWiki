{
 "cells": [
  {
   "cell_type": "code",
   "execution_count": 19,
   "metadata": {
    "collapsed": false
   },
   "outputs": [],
   "source": [
    "crawled_list = []\n",
    "created_headers = {}\n",
    "dict_col_names = {'Pos':'Position', 'Teamvte':'Team', 'Pld':'Games_Played', 'W':'Games_Won', 'D': 'Games_Drew', 'L':'Games_Lost',\\\n",
    "                  'GF':'Goals_For','GA':'Goals_Against','GD':'Goal_Difference','Pts':'Total_Points'}\n",
    "\n",
    "dict_table_names = {\n",
    "    'Team,Manager,Captain,Kit_manufacturer,Shirt_sponsor':'Kits',\n",
    "    'Rank,Player,Club,Goals':'Top_Scorers',\n",
    "    'Player,For,Against,Result,Date':'Hattricks',\n",
    "    'Position,Team,Games_Played,Games_Won,Games_Drew,Games_Lost,Goals_For,Goals_Against,Goal_Difference,Total_Points,Qualification_or_relegation':'League_Table',\n",
    "    'Team,Outgoing_manager,Manner_of_departure,Date_of_vacancy,Position_in_table,Incoming_manager,Date_of_appointment':'Managerial_Changes',\n",
    "    'Home,Away,Final_Score':'Final_Match_Scores'\n",
    "}"
   ]
  },
  {
   "cell_type": "code",
   "execution_count": 20,
   "metadata": {
    "collapsed": true
   },
   "outputs": [],
   "source": [
    "def trimStrBy1 (str):\n",
    "    return str[:len(str)-1]\n",
    "\n",
    "def getFullName (str):\n",
    "    str = str.strip().replace(\"\\n\",\"\").replace(\" \",\"_\")\n",
    "    #\n",
    "    if \"[\" in str:\n",
    "        str = str[:str.find(\"[\")]\n",
    "    if str not in dict_col_names:\n",
    "        return str\n",
    "    else:\n",
    "        return dict_col_names[str]\n"
   ]
  },
  {
   "cell_type": "code",
   "execution_count": 21,
   "metadata": {
    "collapsed": false
   },
   "outputs": [],
   "source": [
    "from bs4 import BeautifulSoup\n",
    "from urllib import request\n",
    "from lxml.html import fromstring \n",
    "import re\n",
    "import csv\n",
    "import pandas as pd\n",
    "\n",
    "def getTableFrame(table):\n",
    "    tmp = table.find_all('tr')\n",
    "    first = tmp[0]\n",
    "    \n",
    "    allRows = tmp[1:]\n",
    "    headers = [header.get_text() for header in first.findChildren(['th', 'td'])]\n",
    "    #print (\"   \",first)\n",
    "    \n",
    "    # replace original headers with formatted ones\n",
    "    # also make the header string using the new formatted headers\n",
    "    lst_new_headers = []\n",
    "    new_header = ''\n",
    "    str_all_headers = ''\n",
    "    for header in headers:\n",
    "        new_header = getFullName(header)\n",
    "        lst_new_headers.append(new_header)\n",
    "        str_all_headers = str_all_headers + new_header + \",\"\n",
    "    str_all_headers = trimStrBy1(str_all_headers)\n",
    "    print (\"   \",lst_new_headers)\n",
    "    \n",
    "    results = [[data.get_text() for data in row.findChildren(['th', 'td'])] for row in allRows]\n",
    "    rowspan = []\n",
    "    for row_no, tr in enumerate(allRows):\n",
    "        tmp = []\n",
    "        for col_no, data in enumerate(tr.findChildren(['th', 'td'])):\n",
    "            if data.has_attr(\"rowspan\"):\n",
    "                row_span_text = data[\"rowspan\"]\n",
    "                if \"{{{rows}}}\" in row_span_text:\n",
    "                    row_span_num = 1\n",
    "                    #print (\"|||\",row_span_text,\"|||\")\n",
    "                else:\n",
    "                    row_span_num = int(data[\"rowspan\"])\n",
    "                rowspan.append((row_no, col_no, row_span_num, data.get_text()))\n",
    "    if rowspan:\n",
    "        for i in rowspan:\n",
    "            for j in range(1, i[2]):\n",
    "                results[i[0]+j].insert(i[1], i[3])\n",
    "    try:\n",
    "        if \"Home ╲ Away\" in str_all_headers or \"Home_╲_Away\" in str_all_headers:\n",
    "            final_results, final_headers, str_all_headers = transformFrame(lst_new_headers, results)\n",
    "        else:\n",
    "            final_results = results\n",
    "            final_headers = lst_new_headers\n",
    "        df = pd.DataFrame(data=final_results, columns=final_headers)\n",
    "        return df, str_all_headers\n",
    "    except:\n",
    "        print (\"   \",lst_new_headers)\n",
    "        print (\"   \",results)  \n",
    "    "
   ]
  },
  {
   "cell_type": "code",
   "execution_count": 22,
   "metadata": {
    "collapsed": false
   },
   "outputs": [],
   "source": [
    "def transformFrame(lst_headers, results):\n",
    "    lst_new_headers=['Home','Away','Final_Score']\n",
    "    str_new_headers = 'Home,Away,Final_Score'\n",
    "    for i in range(1, len(results)):\n",
    "        new_row = []\n",
    "        for j in range(1, len(results[i])-1):\n",
    "            new_row.append(results[i][0])\n",
    "            new_row.append(lst_headers[j])\n",
    "            new_row.append(results[i][j])\n",
    "        print (\"\\n\\t\\t\", new_row)\n",
    "        new_table.append(new_row)\n",
    "    return new_table, lst_new_headers, str_new_headers\n",
    "    "
   ]
  },
  {
   "cell_type": "code",
   "execution_count": 23,
   "metadata": {
    "collapsed": false
   },
   "outputs": [],
   "source": [
    "def insertIntoDB(df, table_name):\n",
    "    conn = sqlite3.connect('top5tables.sqlite')\n",
    "    cur = conn.cursor()\n",
    "    if all_headers in dict_table_names:\n",
    "        df.to_sql(con=conn, name=table_name, if_exists='append', flavor='sqlite')\n",
    "    conn.commit()"
   ]
  },
  {
   "cell_type": "code",
   "execution_count": 24,
   "metadata": {
    "collapsed": false,
    "scrolled": false
   },
   "outputs": [
    {
     "name": "stdout",
     "output_type": "stream",
     "text": [
      "\n",
      "Getting page: 1992-93_FA_Premier_League\n",
      "    ['Team', 'Manager', 'Captain', 'Kit_manufacturer', 'Shirt_sponsor']\n",
      "    ['Position', 'Team', 'Games_Played', 'Games_Won', 'Games_Drew', 'Games_Lost', 'Goals_For', 'Goals_Against', 'Goal_Difference', 'Total_Points', 'Qualification_or_relegation']\n",
      "    ['Home_╲_Away', 'Arsenal_!ARS', 'Aston_Villa_!AST', 'Blackburn_Rovers_!BLB', 'Chelsea_!CHE', 'Coventry_City_!COV', 'Crystal_Palace_!CRY', 'Everton_!EVE', 'Ipswich_Town_!IPS', 'Leeds_United_!LEE', 'Liverpool_!LIV', 'Manchester_City_!MCI', 'Manchester_United_!MUN', 'Middlesbrough_!MID', 'Norwich_City_!NOR', 'Nottingham_Forest_!NOT', 'Oldham_Athletic_!OLD', 'Queens_Park_Rangers_!QPR', 'Sheffield_United_!SHU', 'Sheffield_Wednesday_!SHW', 'Southampton_!SOU', 'Tottenham_Hotspur_!TOT', 'Wimbledon_!WDN']\n",
      "\n",
      "\t\t ['Aston Villa !Aston Villa\\n', 'Arsenal_!ARS', '1–0\\n', 'Aston Villa !Aston Villa\\n', 'Aston_Villa_!AST', ' \\n', 'Aston Villa !Aston Villa\\n', 'Blackburn_Rovers_!BLB', '0–0\\n', 'Aston Villa !Aston Villa\\n', 'Chelsea_!CHE', '1–3\\n', 'Aston Villa !Aston Villa\\n', 'Coventry_City_!COV', '0–0\\n', 'Aston Villa !Aston Villa\\n', 'Crystal_Palace_!CRY', '3–0\\n', 'Aston Villa !Aston Villa\\n', 'Everton_!EVE', '2–1\\n', 'Aston Villa !Aston Villa\\n', 'Ipswich_Town_!IPS', '2–0\\n', 'Aston Villa !Aston Villa\\n', 'Leeds_United_!LEE', '1–1\\n', 'Aston Villa !Aston Villa\\n', 'Liverpool_!LIV', '4–2\\n', 'Aston Villa !Aston Villa\\n', 'Manchester_City_!MCI', '3–1\\n', 'Aston Villa !Aston Villa\\n', 'Manchester_United_!MUN', '1–0\\n', 'Aston Villa !Aston Villa\\n', 'Middlesbrough_!MID', '5–1\\n', 'Aston Villa !Aston Villa\\n', 'Norwich_City_!NOR', '2–3\\n', 'Aston Villa !Aston Villa\\n', 'Nottingham_Forest_!NOT', '2–1\\n', 'Aston Villa !Aston Villa\\n', 'Oldham_Athletic_!OLD', '0–1\\n', 'Aston Villa !Aston Villa\\n', 'Queens_Park_Rangers_!QPR', '2–0\\n', 'Aston Villa !Aston Villa\\n', 'Sheffield_United_!SHU', '3–1\\n', 'Aston Villa !Aston Villa\\n', 'Sheffield_Wednesday_!SHW', '2–0\\n', 'Aston Villa !Aston Villa\\n', 'Southampton_!SOU', '1–1\\n', 'Aston Villa !Aston Villa\\n', 'Tottenham_Hotspur_!TOT', '0–0\\n']\n",
      "    ['Home_╲_Away', 'Arsenal_!ARS', 'Aston_Villa_!AST', 'Blackburn_Rovers_!BLB', 'Chelsea_!CHE', 'Coventry_City_!COV', 'Crystal_Palace_!CRY', 'Everton_!EVE', 'Ipswich_Town_!IPS', 'Leeds_United_!LEE', 'Liverpool_!LIV', 'Manchester_City_!MCI', 'Manchester_United_!MUN', 'Middlesbrough_!MID', 'Norwich_City_!NOR', 'Nottingham_Forest_!NOT', 'Oldham_Athletic_!OLD', 'Queens_Park_Rangers_!QPR', 'Sheffield_United_!SHU', 'Sheffield_Wednesday_!SHW', 'Southampton_!SOU', 'Tottenham_Hotspur_!TOT', 'Wimbledon_!WDN']\n",
      "    [['Arsenal !Arsenal\\n', ' \\n', '0–1\\n', '0–1\\n', '2–1\\n', '3–0\\n', '3–0\\n', '2–0\\n', '0–0\\n', '0–0\\n', '0–1\\n', '1–0\\n', '0–1\\n', '1–1\\n', '2–4\\n', '1–1\\n', '2–0\\n', '0–0\\n', '1–1\\n', '2–1\\n', '4–3\\n', '1–3\\n', '0–1\\n'], ['Aston Villa !Aston Villa\\n', '1–0\\n', ' \\n', '0–0\\n', '1–3\\n', '0–0\\n', '3–0\\n', '2–1\\n', '2–0\\n', '1–1\\n', '4–2\\n', '3–1\\n', '1–0\\n', '5–1\\n', '2–3\\n', '2–1\\n', '0–1\\n', '2–0\\n', '3–1\\n', '2–0\\n', '1–1\\n', '0–0\\n', '1–0\\n'], ['Blackburn Rovers !Blackburn Rovers\\n', '1–0\\n', '3–0\\n', ' \\n', '2–0\\n', '2–5\\n', '1–2\\n', '2–3\\n', '2–1\\n', '3–1\\n', '4–1\\n', '1–0\\n', '0–0\\n', '1–1\\n', '7–1\\n', '4–1\\n', '2–0\\n', '1–0\\n', '1–0\\n', '1–0\\n', '0–0\\n', '0–2\\n', '0–0\\n'], ['Chelsea !Chelsea\\n', '1–0\\n', '0–1\\n', '0–0\\n', ' \\n', '2–1\\n', '3–1\\n', '2–1\\n', '2–1\\n', '1–0\\n', '0–0\\n', '2–4\\n', '1–1\\n', '4–0\\n', '2–3\\n', '0–0\\n', '1–1\\n', '1–0\\n', '1–2\\n', '0–2\\n', '1–1\\n', '1–1\\n', '4–2\\n'], ['Coventry City !Coventry City\\n', '0–2\\n', '3–0\\n', '0–2\\n', '1–2\\n', ' \\n', '2–2\\n', '0–1\\n', '2–2\\n', '3–3\\n', '5–1\\n', '2–3\\n', '0–1\\n', '2–1\\n', '1–1\\n', '0–1\\n', '3–0\\n', '0–1\\n', '1–3\\n', '1–0\\n', '2–0\\n', '1–0\\n', '0–2\\n'], ['Crystal Palace !Crystal Palace\\n', '1–2\\n', '1–0\\n', '3–3\\n', '1–1\\n', '0–0\\n', ' \\n', '0–2\\n', '3–1\\n', '1–0\\n', '1–1\\n', '0–0\\n', '0–2\\n', '4–1\\n', '1–2\\n', '1–1\\n', '2–2\\n', '1–1\\n', '2–0\\n', '1–1\\n', '1–2\\n', '1–3\\n', '2–0\\n'], ['Everton !Everton\\n', '0–0\\n', '1–0\\n', '2–1\\n', '0–1\\n', '1–1\\n', '0–2\\n', ' \\n', '3–0\\n', '2–0\\n', '2–1\\n', '1–3\\n', '0–2\\n', '2–2\\n', '0–1\\n', '3–0\\n', '2–2\\n', '3–5\\n', '0–2\\n', '1–1\\n', '2–1\\n', '1–2\\n', '0–0\\n'], ['Ipswich Town !Ipswich Town\\n', '1–2\\n', '1–1\\n', '2–1\\n', '1–1\\n', '0–0\\n', '2–2\\n', '1–0\\n', ' \\n', '4–2\\n', '2–2\\n', '3–1\\n', '2–1\\n', '0–1\\n', '3–1\\n', '2–1\\n', '1–2\\n', '1–1\\n', '0–0\\n', '0–1\\n', '0–0\\n', '1–1\\n', '2–1\\n'], ['Leeds United !Leeds United\\n', '3–0\\n', '1–1\\n', '5–2\\n', '1–1\\n', '2–2\\n', '0–0\\n', '2–0\\n', '1–0\\n', ' \\n', '2–2\\n', '1–0\\n', '0–0\\n', '3–0\\n', '0–0\\n', '1–4\\n', '2–0\\n', '1–1\\n', '3–1\\n', '3–1\\n', '2–1\\n', '5–0\\n', '2–1\\n'], ['Liverpool !Liverpool\\n', '0–2\\n', '1–2\\n', '2–1\\n', '2–1\\n', '4–0\\n', '5–0\\n', '1–0\\n', '0–0\\n', '2–0\\n', ' \\n', '1–1\\n', '1–2\\n', '4–1\\n', '4–1\\n', '0–0\\n', '1–0\\n', '1–0\\n', '2–1\\n', '1–0\\n', '1–1\\n', '6–2\\n', '2–3\\n'], ['Manchester City !Manchester City\\n', '0–1\\n', '1–1\\n', '3–2\\n', '0–1\\n', '1–0\\n', '0–0\\n', '2–5\\n', '3–1\\n', '4–0\\n', '1–1\\n', ' \\n', '1–1\\n', '0–1\\n', '3–1\\n', '2–2\\n', '3–3\\n', '1–1\\n', '2–0\\n', '1–2\\n', '1–0\\n', '0–1\\n', '1–1\\n'], ['Manchester United !Manchester United\\n', '0–0\\n', '1–1\\n', '3–1\\n', '3–0\\n', '5–0\\n', '1–0\\n', '0–3\\n', '1–1\\n', '2–0\\n', '2–2\\n', '2–1\\n', ' \\n', '3–0\\n', '1–0\\n', '2–0\\n', '3–0\\n', '0–0\\n', '2–1\\n', '2–1\\n', '2–1\\n', '4–1\\n', '0–1\\n'], ['Middlesbrough !Middlesbrough\\n', '1–0\\n', '2–3\\n', '3–2\\n', '0–0\\n', '0–2\\n', '0–1\\n', '1–2\\n', '2–2\\n', '4–1\\n', '1–2\\n', '2–0\\n', '1–1\\n', ' \\n', '3–3\\n', '1–2\\n', '2–3\\n', '0–1\\n', '2–0\\n', '1–1\\n', '2–1\\n', '3–0\\n', '2–0\\n'], ['Norwich City !Norwich City\\n', '1–1\\n', '1–0\\n', '0–0\\n', '2–1\\n', '1–1\\n', '4–2\\n', '1–1\\n', '0–2\\n', '4–2\\n', '1–0\\n', '2–1\\n', '1–3\\n', '1–1\\n', ' \\n', '3–1\\n', '1–0\\n', '2–1\\n', '2–1\\n', '1–0\\n', '1–0\\n', '0–0\\n', '2–1\\n'], ['Nottingham Forest !Nottingham Forest\\n', '0–1\\n', '0–1\\n', '1–3\\n', '3–0\\n', '1–1\\n', '1–1\\n', '0–1\\n', '0–1\\n', '1–1\\n', '1–0\\n', '0–2\\n', '0–2\\n', '1–0\\n', '0–3\\n', ' \\n', '2–0\\n', '1–0\\n', '0–2\\n', '1–2\\n', '1–2\\n', '2–1\\n', '1–1\\n'], ['Oldham Athletic !Oldham Athletic\\n', '0–1\\n', '1–1\\n', '0–1\\n', '3–1\\n', '0–1\\n', '1–1\\n', '1–0\\n', '4–2\\n', '2–2\\n', '3–2\\n', '0–1\\n', '1–0\\n', '4–1\\n', '2–3\\n', '5–3\\n', ' \\n', '2–2\\n', '1–1\\n', '1–1\\n', '4–3\\n', '2–1\\n', '6–2\\n'], ['Queens Park Rangers !Queens Park Rangers\\n', '0–0\\n', '2–1\\n', '0–3\\n', '1–1\\n', '2–0\\n', '1–3\\n', '4–2\\n', '0–0\\n', '2–1\\n', '0–1\\n', '1–1\\n', '1–3\\n', '3–3\\n', '3–1\\n', '4–3\\n', '3–2\\n', ' \\n', '3–2\\n', '3–1\\n', '3–1\\n', '4–1\\n', '1–2\\n'], ['Sheffield United !Sheffield United\\n', '1–1\\n', '0–2\\n', '1–3\\n', '4–2\\n', '1–1\\n', '0–1\\n', '1–0\\n', '3–0\\n', '2–1\\n', '1–0\\n', '1–1\\n', '2–1\\n', '2–0\\n', '0–1\\n', '0–0\\n', '2–0\\n', '1–2\\n', ' \\n', '1–1\\n', '2–0\\n', '6–0\\n', '2–2\\n'], ['Sheffield Wednesday !Sheffield Wednesday\\n', '1–0\\n', '1–2\\n', '0–0\\n', '3–3\\n', '1–2\\n', '2–1\\n', '3–1\\n', '1–1\\n', '1–1\\n', '1–1\\n', '0–3\\n', '3–3\\n', '2–3\\n', '1–0\\n', '2–0\\n', '2–1\\n', '1–0\\n', '1–1\\n', ' \\n', '5–2\\n', '2–0\\n', '1–1\\n'], ['Southampton !Southampton\\n', '2–0\\n', '2–0\\n', '1–1\\n', '1–0\\n', '2–2\\n', '1–0\\n', '0–0\\n', '4–3\\n', '1–1\\n', '2–1\\n', '0–1\\n', '0–1\\n', '2–1\\n', '3–0\\n', '1–2\\n', '1–0\\n', '1–2\\n', '3–2\\n', '1–2\\n', ' \\n', '0–0\\n', '2–2\\n'], ['Tottenham Hotspur !Tottenham Hotspur\\n', '1–0\\n', '0–0\\n', '1–2\\n', '1–2\\n', '0–2\\n', '2–2\\n', '2–1\\n', '0–2\\n', '4–0\\n', '2–0\\n', '3–1\\n', '1–1\\n', '2–2\\n', '5–1\\n', '2–1\\n', '4–1\\n', '3–2\\n', '2–0\\n', '0–2\\n', '4–2\\n', ' \\n', '1–1\\n'], ['Wimbledon !Wimbledon\\n', '3–2\\n', '2–3\\n', '1–1\\n', '0–0\\n', '1–2\\n', '4–0\\n', '1–3\\n', '0–1\\n', '1–0\\n', '2–0\\n', '0–1\\n', '1–2\\n', '2–0\\n', '3–0\\n', '1–0\\n', '5–2\\n', '0–2\\n', '2–0\\n', '1–1\\n', '1–2\\n', '1–1\\n', ' \\n']]\n"
     ]
    },
    {
     "ename": "TypeError",
     "evalue": "'NoneType' object is not iterable",
     "output_type": "error",
     "traceback": [
      "\u001b[1;31m---------------------------------------------------------------------------\u001b[0m",
      "\u001b[1;31mTypeError\u001b[0m                                 Traceback (most recent call last)",
      "\u001b[1;32m<ipython-input-24-abc277dbb5d7>\u001b[0m in \u001b[0;36m<module>\u001b[1;34m()\u001b[0m\n\u001b[0;32m     58\u001b[0m                 \u001b[1;31m#print (\"  \",table.find_all('tr')[0].findChildren(['th', 'td'])[0].getText())\u001b[0m\u001b[1;33m\u001b[0m\u001b[1;33m\u001b[0m\u001b[0m\n\u001b[0;32m     59\u001b[0m                 \u001b[1;32mif\u001b[0m \u001b[0mlen\u001b[0m\u001b[1;33m(\u001b[0m\u001b[1;33m[\u001b[0m\u001b[0mcell\u001b[0m\u001b[1;33m.\u001b[0m\u001b[0mget_text\u001b[0m\u001b[1;33m(\u001b[0m\u001b[1;33m)\u001b[0m \u001b[1;32mfor\u001b[0m \u001b[0mcell\u001b[0m \u001b[1;32min\u001b[0m \u001b[0mtable\u001b[0m\u001b[1;33m.\u001b[0m\u001b[0mfind_all\u001b[0m\u001b[1;33m(\u001b[0m\u001b[1;34m'tr'\u001b[0m\u001b[1;33m)\u001b[0m\u001b[1;33m[\u001b[0m\u001b[1;36m0\u001b[0m\u001b[1;33m]\u001b[0m\u001b[1;33m.\u001b[0m\u001b[0mfindChildren\u001b[0m\u001b[1;33m(\u001b[0m\u001b[1;33m[\u001b[0m\u001b[1;34m'th'\u001b[0m\u001b[1;33m,\u001b[0m \u001b[1;34m'td'\u001b[0m\u001b[1;33m]\u001b[0m\u001b[1;33m)\u001b[0m\u001b[1;33m]\u001b[0m\u001b[1;33m)\u001b[0m \u001b[1;33m>\u001b[0m \u001b[1;36m0\u001b[0m\u001b[1;33m:\u001b[0m\u001b[1;33m\u001b[0m\u001b[0m\n\u001b[1;32m---> 60\u001b[1;33m                     \u001b[0mdf\u001b[0m\u001b[1;33m,\u001b[0m \u001b[0mall_headers\u001b[0m \u001b[1;33m=\u001b[0m \u001b[0mgetTableFrame\u001b[0m\u001b[1;33m(\u001b[0m\u001b[0mtable\u001b[0m\u001b[1;33m)\u001b[0m\u001b[1;33m\u001b[0m\u001b[0m\n\u001b[0m\u001b[0;32m     61\u001b[0m                     \u001b[1;31m#print (\"    \",dict_table_names[all_headers])\u001b[0m\u001b[1;33m\u001b[0m\u001b[1;33m\u001b[0m\u001b[0m\n\u001b[0;32m     62\u001b[0m                 \u001b[1;31m#if all_headers in dict_table_names and dict_table_names[all_headers] == 'League_Table':\u001b[0m\u001b[1;33m\u001b[0m\u001b[1;33m\u001b[0m\u001b[0m\n",
      "\u001b[1;31mTypeError\u001b[0m: 'NoneType' object is not iterable"
     ]
    }
   ],
   "source": [
    "import wikipedia\n",
    "from wikipedia import WikipediaPage\n",
    "from lxml import html\n",
    "from bs4 import BeautifulSoup\n",
    "import xml.etree.ElementTree as ET\n",
    "import sqlite3\n",
    "import re\n",
    "\n",
    "all_tables = []\n",
    "single_table = []\n",
    "single_row = []\n",
    "\n",
    "titles = ['1992-93_FA_Premier_League']\n",
    "''', \n",
    "'1993-94_FA_Premier_League', \n",
    "'1994-95_FA_Premier_League', \n",
    "'1995-96_FA_Premier_League', \n",
    "'1996-97_FA_Premier_League', \n",
    "'1997-98_FA_Premier_League', \n",
    "'1998-99_FA_Premier_League', \n",
    "'1999-2000_FA_Premier_League', \n",
    "'2000-01_FA_Premier_League', \n",
    "'2001-02_FA_Premier_League', \n",
    "'2002-03_FA_Premier_League', \n",
    "'2003-04_FA_Premier_League', \n",
    "'2004-05_FA_Premier_League', \n",
    "'2005-06_FA_Premier_League', \n",
    "'2006–07_FA_Premier_League', \n",
    "'2007-08_FA_Premier_League', \n",
    "'2008-09_FA_Premier_League', \n",
    "'2009-10_FA_Premier_League', \n",
    "'2010-11_FA_Premier_League', \n",
    "'2011-12_FA_Premier_League', \n",
    "'2012-13_FA_Premier_League', \n",
    "'2013-14_FA_Premier_League', \n",
    "'2014-15_FA_Premier_League', \n",
    "'2015–16 Premier League'\n",
    "'''\n",
    "\n",
    "request_count = 0\n",
    "fetch_count = 0\n",
    "duplicate_count = 0\n",
    "success_count = 0\n",
    "\n",
    "for title in titles:\n",
    "    try:\n",
    "        request_count += 1\n",
    "        print (\"\\nGetting page:\",title)\n",
    "        parsed_html = BeautifulSoup(wikipedia.page(title=title, redirect=True).html(), \"lxml\")\n",
    "        page_title = wikipedia.page(title).title\n",
    "        if page_title not in crawled_list:\n",
    "            fetch_count += 1\n",
    "            tables = parsed_html.findAll(\"table\", \"wikitable\")\n",
    "            table_count = 0\n",
    "            for table in tables:\n",
    "                #print (\"\\n\", tables[table_count])\n",
    "                table_count += 1\n",
    "                #print (\"  \",table.find_all('tr')[0].findChildren(['th', 'td'])[0].getText())\n",
    "                if len([cell.get_text() for cell in table.find_all('tr')[0].findChildren(['th', 'td'])]) > 0:\n",
    "                    df, all_headers = getTableFrame(table)\n",
    "                    #print (\"    \",dict_table_names[all_headers])\n",
    "                #if all_headers in dict_table_names and dict_table_names[all_headers] == 'League_Table':\n",
    "                    #print (\"    \",dict_table_names[all_headers])\n",
    "                #    insertIntoDB(df, dict_table_names[all_headers])\n",
    "                #    break\n",
    "                #else:\n",
    "                #    continue\n",
    "\n",
    "            print (\"   Completed\")\n",
    "            success_count += 1\n",
    "            crawled_list.append(page_title)\n",
    "        else:\n",
    "            duplicate_count += 1\n",
    "            #print (\"    \",page_title)\n",
    "    except wikipedia.exceptions.PageError:\n",
    "        print (\"    Page Error\")\n",
    "    #print (\" \", page_title)\n",
    "    #except:\n",
    "        #print (\"    General Exception\")\n",
    "print (\"Requested:\", request_count)\n",
    "print (\"Fetched:\", fetch_count)\n",
    "print (\"Success:\", success_count)\n",
    "print (\"Duplicate:\", duplicate_count)\n"
   ]
  },
  {
   "cell_type": "code",
   "execution_count": null,
   "metadata": {
    "collapsed": true
   },
   "outputs": [],
   "source": []
  }
 ],
 "metadata": {
  "kernelspec": {
   "display_name": "Python 3",
   "language": "python",
   "name": "python3"
  },
  "language_info": {
   "codemirror_mode": {
    "name": "ipython",
    "version": 3
   },
   "file_extension": ".py",
   "mimetype": "text/x-python",
   "name": "python",
   "nbconvert_exporter": "python",
   "pygments_lexer": "ipython3",
   "version": "3.5.1"
  }
 },
 "nbformat": 4,
 "nbformat_minor": 0
}
