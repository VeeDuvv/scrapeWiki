{
 "cells": [
  {
   "cell_type": "code",
   "execution_count": 35,
   "metadata": {
    "collapsed": false
   },
   "outputs": [
    {
     "name": "stdout",
     "output_type": "stream",
     "text": [
      "['2014–15 Premier League', '2014–15 Premier League International Cup', '2014–15 Premier League of Bosnia and Herzegovina', '2014–15 Armenian Cup', 'Ratko Dujković', '2015 FA Community Shield', '2014–15 Under-21 Premier League Cup', '2014–15 Burnley F.C. season', '2014–15 Premier League of Belize', '2014–15 Leicester City F.C. season']\n",
      "Retrieving http://en.wikipedia.org/w/api.php?prop=revisions&action=query&titles=2014%E2%80%9315_Premier_League&format=xml&rvprop=content\n",
      "Retrieved 82456 characters\n"
     ]
    }
   ],
   "source": [
    "import json\n",
    "from urllib import request\n",
    "from urllib.request import urlopen\n",
    "from urllib import parse\n",
    "from urllib.parse import urlencode\n",
    "import xml.etree.ElementTree as ET\n",
    "import wikipedia\n",
    "\n",
    "print (wikipedia.search(\"2014–15_Premier_League\"))\n",
    "\n",
    "\n",
    "apiurl = \"http://en.wikipedia.org/w/api.php?\"\n",
    "\n",
    "titles = ['2014–15_Premier_League']\n",
    "for title in titles:\n",
    "    url = apiurl + urlencode({'prop':'revisions', 'rvprop':'content', 'action':'query', 'titles': title, 'format':'xml'})\n",
    "    print ('Retrieving',url)\n",
    "    response = urlopen(url).read().decode('utf8')\n",
    "    print ('Retrieved',len(response),'characters')\n",
    "    tree = ET.fromstring(response)\n",
    "    #info = json.loads(response)\n",
    "    #print (info)\n",
    "    \n",
    "    \n",
    "    \n"
   ]
  },
  {
   "cell_type": "code",
   "execution_count": null,
   "metadata": {
    "collapsed": true
   },
   "outputs": [],
   "source": []
  }
 ],
 "metadata": {
  "anaconda-cloud": {},
  "kernelspec": {
   "display_name": "Python [Root]",
   "language": "python",
   "name": "Python [Root]"
  },
  "language_info": {
   "codemirror_mode": {
    "name": "ipython",
    "version": 3
   },
   "file_extension": ".py",
   "mimetype": "text/x-python",
   "name": "python",
   "nbconvert_exporter": "python",
   "pygments_lexer": "ipython3",
   "version": "3.5.2"
  }
 },
 "nbformat": 4,
 "nbformat_minor": 0
}
